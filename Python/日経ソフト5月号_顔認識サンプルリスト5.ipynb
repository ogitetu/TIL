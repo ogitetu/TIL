{
 "cells": [
  {
   "cell_type": "markdown",
   "metadata": {},
   "source": [
    "#顔認識を行う\n",
    "\n",
    "OpenCVではHaar-like特徴分類器と呼ばれる学習機械を用いて顔認証を行う\n",
    "Haar-like特徴分類器についてはこちらが参考になった（https://www.pro-s.co.jp/engineerblog/opencv/post_6231.html）\n",
    "    \n",
    "本来は膨大な顔データを学習機械に学習させるが、すでにOpenCVに学習済みの特徴データが用意されている。\n",
    "\n",
    "\n",
    "雑誌には下記に置いてあるとのことだが、自分の環境では違った\n",
    "<ユーザーフォルダー>\\Anaconda3\\pkgs\\opencv3-3.1.0-py35_0\\Library\\etc\\haarcascades\n",
    "\n",
    "C:\\dev\\opencv-3.1.0\\build\\etc\\haarcascades"
   ]
  },
  {
   "cell_type": "code",
   "execution_count": 18,
   "metadata": {
    "collapsed": false,
    "scrolled": false
   },
   "outputs": [
    {
     "name": "stdout",
     "output_type": "stream",
     "text": [
      "顔の座標= 60 57 58 58\n"
     ]
    },
    {
     "data": {
      "text/plain": [
       "<matplotlib.image.AxesImage at 0x22b6c702ba8>"
      ]
     },
     "execution_count": 18,
     "metadata": {},
     "output_type": "execute_result"
    },
    {
     "data": {
      "image/png": "[encoded data removed]",
      "text/plain": [
       "<matplotlib.figure.Figure at 0x22b6ced9748>"
      ]
     },
     "metadata": {},
     "output_type": "display_data"
    }
   ],
   "source": [
    "#coding:utf-8\n",
    "from PIL import Image\n",
    "import matplotlib.pyplot as plt\n",
    "import numpy as np\n",
    "\n",
    "import cv2\n",
    "\n",
    "\n",
    "#デバッグコード\n",
    "#from IPython.core.debugger import Pdb; Pdb().set_trace()\n",
    "\n",
    "cascade_file = \"haarcascade_frontalface_alt.xml\"\n",
    "image_file = \"Lenna.jpg\"\n",
    "\n",
    "\n",
    "#画像の読み込みとグレースケール化　--- (1)\n",
    "img = cv2.imread(image_file)\n",
    "img_gray = cv2.cvtColor(img,cv2.COLOR_BGR2GRAY)\n",
    "\n",
    "#顔認識を実行---(2)\n",
    "cascade = cv2.CascadeClassifier(cascade_file)\n",
    "face_list = cascade.detectMultiScale(img_gray,minSize=(50,50))\n",
    "\n",
    "\n",
    "if len(face_list) == 0:\n",
    "    print(\"顔認識に失敗\")\n",
    "    quit()\n",
    "    \n",
    "    \n",
    "#認識した顔の部分に赤色の枠を描画---(3)\n",
    "for(x,y,w,h) in face_list:\n",
    "    print(\"顔の座標=\",x,y,w,h)\n",
    "    color = (0,0,255)\n",
    "    pen_w = 8\n",
    "    cv2.rectangle(img,(x,y),(x+w,y+h),color,thickness= pen_w)\n",
    "    \n",
    "#結果の画像を書き出す---(4)\n",
    "cv2.imwrite(\"face.jpg\",img)\n",
    "\n",
    "\n",
    "#画像を表示\n",
    "\n",
    "\n",
    "img1 = np.array(Image.open(image_file))\n",
    "img2 = np.array(Image.open(\"face.jpg\"))\n",
    "plt.subplot(5, 4, 1)\n",
    "plt.imshow(img1)\n",
    "\n",
    "plt.subplot(5, 4, 2)\n",
    "plt.imshow(img2)\n",
    "\n",
    "\n",
    "\n"
   ]
  }
 ],
 "metadata": {
  "kernelspec": {
   "display_name": "Python 3",
   "language": "python",
   "name": "python3"
  },
  "language_info": {
   "codemirror_mode": {
    "name": "ipython",
    "version": 3
   },
   "file_extension": ".py",
   "mimetype": "text/x-python",
   "name": "python",
   "nbconvert_exporter": "python",
   "pygments_lexer": "ipython3",
   "version": "3.6.0"
  }
 },
 "nbformat": 4,
 "nbformat_minor": 2
}
